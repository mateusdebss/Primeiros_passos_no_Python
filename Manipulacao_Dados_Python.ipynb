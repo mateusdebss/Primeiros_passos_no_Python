{
  "nbformat": 4,
  "nbformat_minor": 0,
  "metadata": {
    "colab": {
      "provenance": []
    },
    "kernelspec": {
      "name": "python3",
      "display_name": "Python 3"
    },
    "language_info": {
      "name": "python"
    }
  },
  "cells": [
    {
      "cell_type": "code",
      "execution_count": 8,
      "metadata": {
        "colab": {
          "base_uri": "https://localhost:8080/"
        },
        "id": "r0UAeIvjldC_",
        "outputId": "5f0af282-3fa8-44d0-dbe6-8d0ce0e00e8e"
      },
      "outputs": [
        {
          "output_type": "execute_result",
          "data": {
            "text/plain": [
              "12"
            ]
          },
          "metadata": {},
          "execution_count": 8
        }
      ],
      "source": [
        "# Tipo de Dados\n",
        "  # Criando objetos de variados tipos\n",
        "    # Int\n",
        "12"
      ]
    },
    {
      "cell_type": "code",
      "source": [
        "# float\n",
        "12.1"
      ],
      "metadata": {
        "colab": {
          "base_uri": "https://localhost:8080/"
        },
        "id": "bCrqkzBEmHvq",
        "outputId": "804c2819-b521-446d-8dcb-0982995ab251"
      },
      "execution_count": 10,
      "outputs": [
        {
          "output_type": "execute_result",
          "data": {
            "text/plain": [
              "12.1"
            ]
          },
          "metadata": {},
          "execution_count": 10
        }
      ]
    },
    {
      "cell_type": "code",
      "source": [
        "# Str\n",
        "\"Olá, mundo!\""
      ],
      "metadata": {
        "colab": {
          "base_uri": "https://localhost:8080/",
          "height": 35
        },
        "id": "HWGBDd9hmMrZ",
        "outputId": "c11060dd-bcf0-4f99-dc54-5ff1c670b6ce"
      },
      "execution_count": 9,
      "outputs": [
        {
          "output_type": "execute_result",
          "data": {
            "text/plain": [
              "'Olá, mundo!'"
            ],
            "application/vnd.google.colaboratory.intrinsic+json": {
              "type": "string"
            }
          },
          "metadata": {},
          "execution_count": 9
        }
      ]
    },
    {
      "cell_type": "code",
      "source": [
        "# bool\n",
        "True\n",
        "False"
      ],
      "metadata": {
        "colab": {
          "base_uri": "https://localhost:8080/"
        },
        "id": "c-h1iZF6mPjU",
        "outputId": "8aed745a-26ed-4709-a7fa-6efc9f1c5932"
      },
      "execution_count": 11,
      "outputs": [
        {
          "output_type": "execute_result",
          "data": {
            "text/plain": [
              "False"
            ]
          },
          "metadata": {},
          "execution_count": 11
        }
      ]
    },
    {
      "cell_type": "code",
      "source": [
        "# Importar biblioteca renomeando-a\n",
        "import pandas as pd\n",
        "import numpy as np\n",
        "\n",
        "data = pd.to_datetime(\"2022-01-18\")\n",
        "print(data)"
      ],
      "metadata": {
        "colab": {
          "base_uri": "https://localhost:8080/"
        },
        "id": "UACQg6ommVGG",
        "outputId": "a4702504-a35d-422b-ca51-99d787e8130c"
      },
      "execution_count": 16,
      "outputs": [
        {
          "output_type": "stream",
          "name": "stdout",
          "text": [
            "2022-01-18 00:00:00\n"
          ]
        }
      ]
    },
    {
      "cell_type": "code",
      "source": [
        "# Estrutura de Dados\n",
        "  # Criando estruturas de dados no Python\n",
        "    # list\n",
        "lista = [1, \"A\", True, [1, 2, 3, 4]]\n",
        "print(lista)"
      ],
      "metadata": {
        "colab": {
          "base_uri": "https://localhost:8080/"
        },
        "id": "uDA1Ppr4mZ8n",
        "outputId": "09faecf6-d3c7-4d2b-b015-d2badf6e6fc3"
      },
      "execution_count": 17,
      "outputs": [
        {
          "output_type": "stream",
          "name": "stdout",
          "text": [
            "[1, 'A', True, [1, 2, 3, 4]]\n"
          ]
        }
      ]
    },
    {
      "cell_type": "code",
      "source": [
        "# tuple\n",
        "tupla = (1, \"A\", True)\n",
        "print(tupla)"
      ],
      "metadata": {
        "colab": {
          "base_uri": "https://localhost:8080/"
        },
        "id": "6mhuFeQBmhsI",
        "outputId": "1721c2c0-defd-4cc9-b940-11b9fe8f4a5b"
      },
      "execution_count": 18,
      "outputs": [
        {
          "output_type": "stream",
          "name": "stdout",
          "text": [
            "(1, 'A', True)\n"
          ]
        }
      ]
    },
    {
      "cell_type": "code",
      "source": [
        "# dict\n",
        "dicionario = {\"nome\": \"fernando\", \"idade\": 10, \"sexo_masculino\": True}\n",
        "print(dicionario)"
      ],
      "metadata": {
        "colab": {
          "base_uri": "https://localhost:8080/"
        },
        "id": "Ub1A01i9mk6Q",
        "outputId": "5848ee83-52fd-42e1-fc69-9a61b7e2ad5e"
      },
      "execution_count": 19,
      "outputs": [
        {
          "output_type": "stream",
          "name": "stdout",
          "text": [
            "{'nome': 'fernando', 'idade': 10, 'sexo_masculino': True}\n"
          ]
        }
      ]
    },
    {
      "cell_type": "code",
      "source": [
        "# ndarray\n",
        "print(np.array([1, 2, 3, 4]))  # Uma dimensão\n",
        "print(np.array([[1, 2, 3], [\"a\", \"b\", \"c\"]]))  # Duas dimensões"
      ],
      "metadata": {
        "colab": {
          "base_uri": "https://localhost:8080/"
        },
        "id": "8uNVUzDamnyh",
        "outputId": "4f940891-90de-4cde-85fc-9770d1df7394"
      },
      "execution_count": 20,
      "outputs": [
        {
          "output_type": "stream",
          "name": "stdout",
          "text": [
            "[1 2 3 4]\n",
            "[['1' '2' '3']\n",
            " ['a' 'b' 'c']]\n"
          ]
        }
      ]
    },
    {
      "cell_type": "code",
      "source": [
        "# Series\n",
        "print(pd.Series(np.array([1, 2, 3, 4])))  # de um ndarray\n",
        "print(pd.Series([1, 2, 3]))  # de uma list\n",
        "print(pd.Series({\"a\": 1, \"b\": 2}))  # de um dict"
      ],
      "metadata": {
        "colab": {
          "base_uri": "https://localhost:8080/"
        },
        "id": "fBSenbJ_m5e8",
        "outputId": "30188327-c8a0-4951-8d69-c12abdbba9d0"
      },
      "execution_count": 21,
      "outputs": [
        {
          "output_type": "stream",
          "name": "stdout",
          "text": [
            "0    1\n",
            "1    2\n",
            "2    3\n",
            "3    4\n",
            "dtype: int64\n",
            "0    1\n",
            "1    2\n",
            "2    3\n",
            "dtype: int64\n",
            "a    1\n",
            "b    2\n",
            "dtype: int64\n"
          ]
        }
      ]
    },
    {
      "cell_type": "code",
      "source": [
        "# DataFrame\n",
        "tabela = pd.DataFrame(\n",
        "    {\n",
        "        \"coluna_A\": [\"a\", \"b\", \"c\"],\n",
        "        \"coluna_B\": [1, 2, 3],\n",
        "        \"coluna_C\": [True, True, False],\n",
        "        \"coluna_D\": pd.to_datetime([\"2022-01-18\", \"2022-01-18\", \"2022-01-18\"])\n",
        "    }\n",
        ")\n",
        "print(tabela)"
      ],
      "metadata": {
        "colab": {
          "base_uri": "https://localhost:8080/"
        },
        "id": "ouwXrQhJm8T4",
        "outputId": "abd71daf-d5ce-4291-b129-de560deda35b"
      },
      "execution_count": 28,
      "outputs": [
        {
          "output_type": "stream",
          "name": "stdout",
          "text": [
            "  coluna_A  coluna_B  coluna_C   coluna_D\n",
            "0        a         1      True 2022-01-18\n",
            "1        b         2      True 2022-01-18\n",
            "2        c         3     False 2022-01-18\n"
          ]
        }
      ]
    },
    {
      "cell_type": "code",
      "source": [
        "# Indexação de Objetos\n",
        "  # str\n",
        "texto = \"Palavra\"\n",
        "print(texto[2])   # Acesso ao 3º item\n",
        "print(texto[2:5]) # Acesso a um intervalo de itens\n",
        "print(texto[-1])  # Última letra"
      ],
      "metadata": {
        "colab": {
          "base_uri": "https://localhost:8080/"
        },
        "id": "YZI6f7E7m9Xs",
        "outputId": "a454eca4-ae95-4be8-ee73-bc460f07407c"
      },
      "execution_count": 22,
      "outputs": [
        {
          "output_type": "stream",
          "name": "stdout",
          "text": [
            "l\n",
            "lav\n",
            "a\n"
          ]
        }
      ]
    },
    {
      "cell_type": "code",
      "source": [
        "# list\n",
        "print(lista[0])       # Primeiro elemento\n",
        "print(lista[-1])      # Último elemento\n",
        "print(lista[-1][2])   # Terceiro elemento da última sublista\n",
        "print(lista[0:2])     # Fatiamento"
      ],
      "metadata": {
        "colab": {
          "base_uri": "https://localhost:8080/"
        },
        "id": "INO596VwnF42",
        "outputId": "13f9719a-d580-49bc-aee3-a1ec11d2c92a"
      },
      "execution_count": 23,
      "outputs": [
        {
          "output_type": "stream",
          "name": "stdout",
          "text": [
            "1\n",
            "[1, 2, 3, 4]\n",
            "3\n",
            "[1, 'A']\n"
          ]
        }
      ]
    },
    {
      "cell_type": "code",
      "source": [
        "# tuple\n",
        "print(tupla[0:2])\n",
        "print(tupla[-1])"
      ],
      "metadata": {
        "colab": {
          "base_uri": "https://localhost:8080/"
        },
        "id": "KaewZc74nIuh",
        "outputId": "228fdb35-7cc6-49e5-bd9a-3fe191ac741a"
      },
      "execution_count": 24,
      "outputs": [
        {
          "output_type": "stream",
          "name": "stdout",
          "text": [
            "(1, 'A')\n",
            "True\n"
          ]
        }
      ]
    },
    {
      "cell_type": "code",
      "source": [
        "# DataFrame\n",
        "print(tabela[\"coluna_A\"]) # acessa coluna pelo nome (retorna Series)\n",
        "print(tabela[[\"coluna_A\"]]) # acessa coluna pelo nome (retorna DataFrame)\n",
        "print(tabela[[\"coluna_A\", \"coluna_C\"]]) # múltiplas colunas\n",
        "print(tabela.iloc[0]) # Acessa a 1 Linha\n",
        "print(tabela.iloc[-1]) # Acessa a última Linha\n",
        "print(tabela.iloc[0:2]) # Acessa intervalo de linhas\n",
        "print(tabela.iloc[0:2, 0:2]) # Acessa linhas e colunas simultaneamente\n",
        "print(tabela.iloc[0:2, [0, 2, 3]]) # Acessa linhas específicas e colunas específicas"
      ],
      "metadata": {
        "colab": {
          "base_uri": "https://localhost:8080/"
        },
        "id": "4JWRTKa6nhYO",
        "outputId": "7be90d31-9b9f-489b-cb15-c5b659ffbe36"
      },
      "execution_count": 29,
      "outputs": [
        {
          "output_type": "stream",
          "name": "stdout",
          "text": [
            "0    a\n",
            "1    b\n",
            "2    c\n",
            "Name: coluna_A, dtype: object\n",
            "  coluna_A\n",
            "0        a\n",
            "1        b\n",
            "2        c\n",
            "  coluna_A  coluna_C\n",
            "0        a      True\n",
            "1        b      True\n",
            "2        c     False\n",
            "coluna_A                      a\n",
            "coluna_B                      1\n",
            "coluna_C                   True\n",
            "coluna_D    2022-01-18 00:00:00\n",
            "Name: 0, dtype: object\n",
            "coluna_A                      c\n",
            "coluna_B                      3\n",
            "coluna_C                  False\n",
            "coluna_D    2022-01-18 00:00:00\n",
            "Name: 2, dtype: object\n",
            "  coluna_A  coluna_B  coluna_C   coluna_D\n",
            "0        a         1      True 2022-01-18\n",
            "1        b         2      True 2022-01-18\n",
            "  coluna_A  coluna_B\n",
            "0        a         1\n",
            "1        b         2\n",
            "  coluna_A  coluna_C   coluna_D\n",
            "0        a      True 2022-01-18\n",
            "1        b      True 2022-01-18\n"
          ]
        }
      ]
    },
    {
      "cell_type": "code",
      "source": [
        "# Informações de Tabela\n",
        "print(tabela.info())"
      ],
      "metadata": {
        "colab": {
          "base_uri": "https://localhost:8080/"
        },
        "id": "AWhendsmnu7Q",
        "outputId": "d9ff0050-ac93-4e71-bcda-a877913a3fef"
      },
      "execution_count": 30,
      "outputs": [
        {
          "output_type": "stream",
          "name": "stdout",
          "text": [
            "<class 'pandas.core.frame.DataFrame'>\n",
            "RangeIndex: 3 entries, 0 to 2\n",
            "Data columns (total 4 columns):\n",
            " #   Column    Non-Null Count  Dtype         \n",
            "---  ------    --------------  -----         \n",
            " 0   coluna_A  3 non-null      object        \n",
            " 1   coluna_B  3 non-null      int64         \n",
            " 2   coluna_C  3 non-null      bool          \n",
            " 3   coluna_D  3 non-null      datetime64[ns]\n",
            "dtypes: bool(1), datetime64[ns](1), int64(1), object(1)\n",
            "memory usage: 207.0+ bytes\n",
            "None\n"
          ]
        }
      ]
    }
  ]
}